{
  "nbformat": 4,
  "nbformat_minor": 0,
  "metadata": {
    "colab": {
      "name": "click_through_rate.ipynb",
      "version": "0.3.2",
      "provenance": [],
      "collapsed_sections": [],
      "include_colab_link": true
    },
    "kernelspec": {
      "name": "python3",
      "display_name": "Python 3"
    }
  },
  "cells": [
    {
      "cell_type": "markdown",
      "metadata": {
        "id": "view-in-github",
        "colab_type": "text"
      },
      "source": [
        "<a href=\"https://colab.research.google.com/github/LiuP1994/click_through_rate/blob/master/click_through_rate.ipynb\" target=\"_parent\"><img src=\"https://colab.research.google.com/assets/colab-badge.svg\" alt=\"Open In Colab\"/></a>"
      ]
    },
    {
      "cell_type": "code",
      "metadata": {
        "id": "Xzk79v2cNl1I",
        "colab_type": "code",
        "colab": {}
      },
      "source": [
        "# from google.colab import files\n",
        "# uploaded=files.upload()"
      ],
      "execution_count": 0,
      "outputs": []
    },
    {
      "cell_type": "code",
      "metadata": {
        "id": "zqdPjgOTNtY1",
        "colab_type": "code",
        "colab": {}
      },
      "source": [
        "from sklearn.naive_bayes import MultinomialNB\n",
        "import pandas as pd\n",
        "import numpy as np\n",
        "import string\n",
        "from sklearn.feature_extraction.text import TfidfVectorizer,CountVectorizer\n",
        "from sklearn.model_selection import train_test_split\n",
        "from sklearn import metrics\n",
        "from gensim.models import Word2Vec\n",
        "from sklearn.metrics.pairwise import cosine_similarity\n",
        "from sklearn.decomposition import PCA\n",
        "import lightgbm as lgb\n",
        "from sklearn.linear_model import LogisticRegression\n",
        "import matplotlib.pyplot as plt\n",
        "import seaborn as sns\n",
        "from collections import defaultdict\n",
        "from gensim.models import FastText as fasttext\n",
        "from sklearn.model_selection import StratifiedKFold\n",
        "import math\n",
        "color = sns.color_palette()\n",
        "sns.set_style('darkgrid')"
      ],
      "execution_count": 0,
      "outputs": []
    },
    {
      "cell_type": "code",
      "metadata": {
        "id": "OBHjJ8F3dKPW",
        "colab_type": "code",
        "colab": {}
      },
      "source": [
        "#导入数据\n",
        "path='train_data.csv'\n",
        "train_data = pd.read_csv(path,lineterminator='\\n',index_col=False,names=['query_id','query','title_id','title','label'])"
      ],
      "execution_count": 0,
      "outputs": []
    },
    {
      "cell_type": "code",
      "metadata": {
        "id": "trbnJ3V62kFt",
        "colab_type": "code",
        "colab": {}
      },
      "source": [
        "#清洗过长的query\n",
        "# length=[]\n",
        "# for n in range(train_data.shape[0]):\n",
        "#   query_length=np.array(train_data['query'][n].split()).shape[0]\n",
        "#   if query_length>50:\n",
        "#     length.append(False)\n",
        "#   else:\n",
        "#     length.append(True)\n",
        "# train_data=train_data[length].reset_index(drop=True)"
      ],
      "execution_count": 0,
      "outputs": []
    },
    {
      "cell_type": "code",
      "metadata": {
        "id": "yGIUo1KebsW7",
        "colab_type": "code",
        "colab": {}
      },
      "source": [
        "#首先，将整个数据集7:2:1分为train valid test\n",
        "x_train_val, x_test, y_train_val, y_test = train_test_split(train_data[['query','title','label']],\n",
        "                                                     train_data['label'],\n",
        "                                                     test_size=0.2,\n",
        "                                                     random_state=33)\n",
        "\n",
        "x_train, x_val, y_train, y_val = train_test_split(x_train_val,\n",
        "                                                     y_train_val,\n",
        "                                                     test_size=0.3,\n",
        "                                                     random_state=33)\n",
        "\n",
        "\n",
        "#重置index,使其从0开始\n",
        "x_train_reset=x_train.reset_index(drop=True)\n",
        "x_test_reset=x_test.reset_index(drop=True)\n",
        "y_train_reset=y_train.reset_index(drop=True)\n",
        "y_test_reset=y_test.reset_index(drop=True)\n",
        "x_val_reset=x_val.reset_index(drop=True)\n",
        "y_val_reset=y_val.reset_index(drop=True)"
      ],
      "execution_count": 0,
      "outputs": []
    },
    {
      "cell_type": "code",
      "metadata": {
        "id": "LZJChA9wnBcR",
        "colab_type": "code",
        "colab": {}
      },
      "source": [
        "#计算query和title长度\n",
        "def query_title_length(origin_data):\n",
        "  query_length=np.zeros(origin_data.shape[0])\n",
        "  title_length=np.zeros(origin_data.shape[0])\n",
        "  for n in range(origin_data.shape[0]):\n",
        "    title_length[n]=np.array(origin_data['title'][n].split()).shape[0]\n",
        "    query_length[n]=np.array(origin_data['query'][n].split()).shape[0]\n",
        "  return query_length,title_length\n",
        "\n",
        "#长度差\n",
        "def length_dif(query_length,title_length):\n",
        "  return title_length-query_length\n",
        "\n",
        "#长度比\n",
        "def length_rate(query_length,title_length):\n",
        "  return title_length/query_length"
      ],
      "execution_count": 0,
      "outputs": []
    },
    {
      "cell_type": "code",
      "metadata": {
        "id": "MUpm5l2V11LE",
        "colab_type": "code",
        "colab": {}
      },
      "source": [
        "#统计相同词语出现的数目与query,title长度比值\n",
        "def same_word(train_data,query_length,title_length):\n",
        "  same_word=[]\n",
        "  for i in range(train_data.shape[0]):\n",
        "    k=0\n",
        "    for l in train_data['query'][i]:\n",
        "      if l in train_data['title'][i]:\n",
        "        k+=1\n",
        "    same_word.append(k)\n",
        "  return same_word/query_length,same_word/title_length"
      ],
      "execution_count": 0,
      "outputs": []
    },
    {
      "cell_type": "code",
      "metadata": {
        "id": "ikI_pGVCIcSM",
        "colab_type": "code",
        "colab": {}
      },
      "source": [
        "#每个query中title条数\n",
        "def title_number_per_query(train_data):\n",
        "  count=train_data['title'].groupby(train_data['query']).count()\n",
        "  title_number_per_query=pd.merge(train_data['query'],count,left_on='query',right_index=True,how='left')['title'].rename('title_number_per_query',inplace=True)\n",
        "  return title_number_per_query"
      ],
      "execution_count": 0,
      "outputs": []
    },
    {
      "cell_type": "code",
      "metadata": {
        "id": "ws03pxFmV6Bg",
        "colab_type": "code",
        "colab": {}
      },
      "source": [
        "#计算编辑距离\n",
        "def normal_leven(str1, str2):\n",
        "      len_str1 = len(str1) + 1\n",
        "      len_str2 = len(str2) + 1\n",
        "      #create matrix\n",
        "      matrix = [0 for n in range(len_str1 * len_str2)]\n",
        "      #init x axis\n",
        "      for i in range(len_str1):\n",
        "          matrix[i] = i\n",
        "      #init y axis\n",
        "      for j in range(0, len(matrix), len_str1):\n",
        "          if j % len_str1 == 0:\n",
        "              matrix[j] = j // len_str1          \n",
        "      for i in range(1, len_str1):\n",
        "          for j in range(1, len_str2):\n",
        "              if str1[i-1] == str2[j-1]:\n",
        "                  cost = 0\n",
        "              else:\n",
        "                  cost = 1\n",
        "              matrix[j*len_str1+i] = min(matrix[(j-1)*len_str1+i]+1,\n",
        "                                          matrix[j*len_str1+(i-1)]+1,\n",
        "                                          matrix[(j-1)*len_str1+(i-1)] + cost)          \n",
        "      return matrix[-1]\n",
        "def edit_distance(train_data):\n",
        "  edit_distance=[]\n",
        "  for i in range(train_data.shape[0]):\n",
        "    edit_distance.append(normal_leven(train_data['query'][i],train_data['title'][i]))\n",
        "  return edit_distance"
      ],
      "execution_count": 0,
      "outputs": []
    },
    {
      "cell_type": "code",
      "metadata": {
        "id": "qCn866te1C9g",
        "colab_type": "code",
        "colab": {}
      },
      "source": [
        "#拼接query和title\n",
        "for n in range(train_data.shape[0]):\n",
        "    train_data.at[n,'query']=train_data['query'][n].split()\n",
        "    train_data.at[n,'title']=train_data['title'][n].split()\n",
        "word2vcorpus=pd.concat([train_data['query'],train_data['title']])"
      ],
      "execution_count": 0,
      "outputs": []
    },
    {
      "cell_type": "code",
      "metadata": {
        "id": "0Hkh3x65r27w",
        "colab_type": "code",
        "colab": {}
      },
      "source": [
        "#对query和title语料库做word2vec\n",
        "model=Word2Vec(word2vcorpus,min_count=1, size=100, window=5, workers=4)"
      ],
      "execution_count": 0,
      "outputs": []
    },
    {
      "cell_type": "code",
      "metadata": {
        "id": "K-STAP3IWfOh",
        "colab_type": "code",
        "colab": {}
      },
      "source": [
        "def Jaccrad(model, reference):#terms_reference为源句子，terms_model为候选句子\n",
        "    grams_reference = set(reference)#去重；如果不需要就改为list\n",
        "    grams_model = set(model)\n",
        "    temp=0\n",
        "    for i in grams_reference:\n",
        "        if i in grams_model:\n",
        "            temp=temp+1\n",
        "    fenmu=len(grams_model)+len(grams_reference)-temp #并集\n",
        "    jaccard_coefficient=float(temp/fenmu)#交集 \n",
        "    return jaccard_coefficient\n",
        "def jaccrad_distance(train_data):\n",
        "  jaccrad_distance=[]\n",
        "  for i in range(train_data.shape[0]):\n",
        "    jaccrad_distance.append(Jaccrad(train_data['query'][i],train_data['title'][i]))\n",
        "  return jaccrad_distance"
      ],
      "execution_count": 0,
      "outputs": []
    },
    {
      "cell_type": "code",
      "metadata": {
        "id": "ibF8dXpFBsYb",
        "colab_type": "code",
        "colab": {}
      },
      "source": [
        "train_data = pd.read_csv(path,lineterminator='\\n',index_col=False,names=['query_id','query','title_id','title','label'])\n",
        "token_freq = defaultdict(int)\n",
        "for line in train_data['query']+' '+train_data['title']:\n",
        "  for token in line.split(' '):\n",
        "    token_freq[token] += 1\n",
        "token_list = [w for w in token_freq.keys()]"
      ],
      "execution_count": 0,
      "outputs": []
    },
    {
      "cell_type": "code",
      "metadata": {
        "id": "_KeiFPU184IS",
        "colab_type": "code",
        "colab": {}
      },
      "source": [
        "#计算余弦相似度\n",
        "def cosin_sim(vec1,vec2):\n",
        "  return np.dot(vec1, vec2) / (np.linalg.norm(vec1) * np.linalg.norm(vec2))"
      ],
      "execution_count": 0,
      "outputs": []
    },
    {
      "cell_type": "code",
      "metadata": {
        "id": "RNqNU-aQ_caT",
        "colab_type": "code",
        "colab": {}
      },
      "source": [
        "#tf-idf\n",
        "from sklearn.feature_extraction.text import TfidfVectorizer\n",
        "from gensim import similarities\n",
        "tfidf = TfidfVectorizer(max_df=0.8,decode_error='ignore',lowercase=False)\n",
        "tfidf.fit(pd.concat([train_data['query'],train_data['title']]).astype('str'))\n",
        "def tfidf_sim(train_data):\n",
        "  transformed_title=tfidf.transform(train_data['title'].astype('str'))\n",
        "  transformed_query=tfidf.transform(train_data['query'].astype('str'))\n",
        "  index=similarities.Similarity('Similarity',transformed_title,num_features=transformed_title.shape[1])\n",
        "  tfidf_sim=index[transformed_query].diagonal()\n",
        "  return tfidf_sim"
      ],
      "execution_count": 0,
      "outputs": []
    },
    {
      "cell_type": "code",
      "metadata": {
        "id": "NpSqHqt4zpfg",
        "colab_type": "code",
        "colab": {}
      },
      "source": [
        "#sentence2vec\n",
        "def weightedWord2vecSentence(data):\n",
        "  weightedQuery=[]\n",
        "  weightedTitle=[]\n",
        "  for index in data.index:\n",
        "    queryWord_vectors=[]\n",
        "    titleWord_vectors=[]\n",
        "    for token in data['query'][index].split():  \n",
        "      try:\n",
        "        queryWord_vectors.append(model.wv[token]*(1e-3 / (1e-3 +token_freq[token])))\n",
        "      except:  \n",
        "        model.build_vocab([token],update=True)\n",
        "        queryWord_vectors.append(model.wv[token]*(1e-3 / (1e-3 +token_freq[token])))\n",
        "    for token in data['title'][index].split():  \n",
        "      try:\n",
        "        titleWord_vectors.append(model.wv[token]*(1e-3 / (1e-3 +token_freq[token])))\n",
        "      except:  \n",
        "        model.build_vocab([token],update=True)\n",
        "        titleWord_vectors.append(model.wv[token]*(1e-3 / (1e-3 +token_freq[token])))\n",
        "    querySentence_vector=np.mean(np.array(queryWord_vectors), axis=0)\n",
        "    titleSentence_vector=np.mean(np.array(titleWord_vectors), axis=0)\n",
        "    weightedQuery.append(querySentence_vector)\n",
        "    weightedTitle.append(titleSentence_vector)\n",
        "  return np.array(weightedQuery),np.array(weightedTitle)\n",
        "\n",
        "weightedQuery,weightedTitle=weightedWord2vecSentence(train_data)\n",
        "weightedSentences=np.concatenate([weightedQuery,weightedTitle])\n",
        "\n",
        "pca = PCA(n_components=50)\n",
        "pca.fit(weightedSentences)\n",
        "u = pca.components_[0]\n",
        "u = np.multiply(u, np.transpose(u))\n",
        "\n",
        "finalQuery=[]\n",
        "finalTitle=[]\n",
        "for sentence in weightedQuery:\n",
        "    sub = np.multiply(u, sentence)\n",
        "    finalQuery.append(np.subtract(sentence, sub))\n",
        "for sentence in weightedTitle:\n",
        "    sub = np.multiply(u, sentence)\n",
        "    finalTitle.append(np.subtract(sentence, sub))\n",
        "sentence2vecSim=[]\n",
        "for i in range(20000):\n",
        "  sentence2vecSim.append(cosin_sim(finalQuery[i], finalTitle[i]))  "
      ],
      "execution_count": 0,
      "outputs": []
    },
    {
      "cell_type": "code",
      "metadata": {
        "id": "mSab_Uauegab",
        "colab_type": "code",
        "colab": {}
      },
      "source": [
        "#统计特征\n",
        "train_query_length,train_title_length=query_title_length(x_train_reset)\n",
        "test_query_length,test_title_length=query_title_length(x_test_reset)\n",
        "val_query_length,val_title_length=query_title_length(x_val_reset)\n",
        "train_length_dif=length_dif(train_query_length,train_title_length)\n",
        "test_length_dif=length_dif(test_query_length,test_title_length)\n",
        "val_length_dif=length_dif(val_query_length,val_title_length)\n",
        "train_length_rate=length_rate(train_query_length,train_title_length)\n",
        "test_length_rate=length_rate(test_query_length,test_title_length)\n",
        "val_length_rate=length_rate(val_query_length,val_title_length)\n",
        "train_query_same_word_rate,train_title_same_word_rate=same_word(x_train_reset,train_query_length,train_title_length)\n",
        "test_query_same_word_rate,test_title_same_word_rate=same_word(x_test_reset,test_query_length,test_title_length)\n",
        "val_query_same_word_rate,val_title_same_word_rate=same_word(x_val_reset,val_query_length,val_title_length)\n",
        "train_title_number_per_query=title_number_per_query(x_train_reset)\n",
        "test_title_number_per_query=title_number_per_query(x_test_reset)\n",
        "val_title_number_per_query=title_number_per_query(x_val_reset)"
      ],
      "execution_count": 0,
      "outputs": []
    },
    {
      "cell_type": "code",
      "metadata": {
        "id": "kj_T2K-KH35f",
        "colab_type": "code",
        "outputId": "21f19bc4-c998-4dea-87c6-9841f4b13d58",
        "colab": {
          "base_uri": "https://localhost:8080/",
          "height": 108
        }
      },
      "source": [
        "#相似度特征\n",
        "train_edit_distance=edit_distance(x_train_reset)\n",
        "test_edit_distance=edit_distance(x_test_reset)\n",
        "val_edit_distance=edit_distance(x_val_reset)\n",
        "train_jaccrad_distance=jaccrad_distance(x_train_reset)\n",
        "test_jaccrad_distance=jaccrad_distance(x_test_reset)\n",
        "val_jaccrad_distance=jaccrad_distance(x_val_reset)\n",
        "train_tfidf_sim=tfidf_sim(x_train_reset)\n",
        "test_tfidf_sim=tfidf_sim(x_test_reset)\n",
        "val_tfidf_sim=tfidf_sim(x_val_reset)\n",
        "train_sentence2vecSim=pd.merge(x_train,pd.DataFrame(sentence2vecSim,columns=['sentence2vecSim']),left_index=True,right_index=True,how='left')['sentence2vecSim'].reset_index(drop=True)\n",
        "test_sentence2vecSim=pd.merge(x_test,pd.DataFrame(sentence2vecSim,columns=['sentence2vecSim']),left_index=True,right_index=True,how='left')['sentence2vecSim'].reset_index(drop=True)\n",
        "val_sentence2vecSim=pd.merge(x_val,pd.DataFrame(sentence2vecSim,columns=['sentence2vecSim']),left_index=True,right_index=True,how='left')['sentence2vecSim'].reset_index(drop=True)"
      ],
      "execution_count": 0,
      "outputs": [
        {
          "output_type": "stream",
          "text": [
            "/usr/local/lib/python3.6/dist-packages/smart_open/smart_open_lib.py:398: UserWarning: This function is deprecated, use smart_open.open instead. See the migration notes for details: https://github.com/RaRe-Technologies/smart_open/blob/master/README.rst#migrating-to-the-new-open-function\n",
            "  'See the migration notes for details: %s' % _MIGRATION_NOTES_URL\n",
            "/usr/local/lib/python3.6/dist-packages/gensim/similarities/docsim.py:518: FutureWarning: arrays to stack must be passed as a \"sequence\" type such as list or tuple. Support for non-sequence iterables such as generators is deprecated as of NumPy 1.16 and will raise an error in the future.\n",
            "  result = numpy.hstack(shard_results)\n"
          ],
          "name": "stderr"
        }
      ]
    },
    {
      "cell_type": "code",
      "metadata": {
        "id": "2f99qzSjH_PB",
        "colab_type": "code",
        "colab": {}
      },
      "source": [
        "#图示频率分布\n",
        "def freq(length,name):\n",
        "  length_freq=defaultdict(int)\n",
        "  for length in length:\n",
        "    length_freq[length]+=1\n",
        "  plt.style.use('classic')\n",
        "  plt.bar(length_freq.keys(),length_freq.values(), color='black',width=2)\n",
        "  plt.xlabel(name)\n",
        "  plt.ylabel('Frequence')\n",
        "  plt.grid()\n",
        "  plt.show()"
      ],
      "execution_count": 0,
      "outputs": []
    },
    {
      "cell_type": "code",
      "metadata": {
        "id": "-7GACk3Xu8DM",
        "colab_type": "code",
        "colab": {}
      },
      "source": [
        "#columns名字test和train得一样，为了之后merge\n",
        "train_query_length=pd.DataFrame(train_query_length,columns=['query_length'])\n",
        "train_title_length=pd.DataFrame(train_title_length,columns=['title_length'])\n",
        "test_query_length=pd.DataFrame(test_query_length,columns=['query_length'])\n",
        "test_title_length=pd.DataFrame(test_title_length,columns=['title_length'])\n",
        "val_query_length=pd.DataFrame(val_query_length,columns=['query_length'])\n",
        "val_title_length=pd.DataFrame(val_title_length,columns=['title_length'])\n",
        "train_length_dif=pd.DataFrame(train_length_dif,columns=['length_dif'])\n",
        "test_length_dif=pd.DataFrame(test_length_dif,columns=['length_dif'])\n",
        "val_length_dif=pd.DataFrame(val_length_dif,columns=['length_dif'])\n",
        "train_length_rate=pd.DataFrame(train_length_rate,columns=['length_rate'])\n",
        "test_length_rate=pd.DataFrame(test_length_rate,columns=['length_rate'])\n",
        "val_length_rate=pd.DataFrame(val_length_rate,columns=['length_rate'])\n",
        "train_query_same_word_rate=pd.DataFrame(train_query_same_word_rate,columns=['query_same_word_rate'])\n",
        "train_title_same_word_rate=pd.DataFrame(train_title_same_word_rate,columns=['title_same_word_rate'])\n",
        "test_query_same_word_rate=pd.DataFrame(test_query_same_word_rate,columns=['query_same_word_rate'])\n",
        "test_title_same_word_rate=pd.DataFrame(test_title_same_word_rate,columns=['title_same_word_rate'])\n",
        "val_query_same_word_rate=pd.DataFrame(val_query_same_word_rate,columns=['query_same_word_rate'])\n",
        "val_title_same_word_rate=pd.DataFrame(val_title_same_word_rate,columns=['title_same_word_rate'])\n",
        "train_edit_distance=pd.DataFrame(train_edit_distance,columns=['edit_distance'])\n",
        "test_edit_distance=pd.DataFrame(test_edit_distance,columns=['edit_distance'])\n",
        "val_edit_distance=pd.DataFrame(val_edit_distance,columns=['edit_distance'])\n",
        "train_jaccrad_distance=pd.DataFrame(train_jaccrad_distance,columns=['jaccrad_distance'])\n",
        "test_jaccrad_distance=pd.DataFrame(test_jaccrad_distance,columns=['jaccrad_distance'])\n",
        "val_jaccrad_distance=pd.DataFrame(val_jaccrad_distance,columns=['jaccrad_distance'])\n",
        "train_tfidf_sim=pd.DataFrame(train_tfidf_sim,columns=['tfidf_sim'])\n",
        "test_tfidf_sim=pd.DataFrame(test_tfidf_sim,columns=['tfidf_sim'])\n",
        "val_tfidf_sim=pd.DataFrame(val_tfidf_sim,columns=['tfidf_sim'])\n",
        "train_feature=pd.concat([train_query_length,train_title_length,train_length_dif,train_length_rate,train_query_same_word_rate,train_title_same_word_rate,train_title_number_per_query,\n",
        "                         train_edit_distance,train_jaccrad_distance,train_tfidf_sim,train_sentence2vecSim,y_train_reset,x_train_reset['query']],axis=1)\n",
        "test_feature=pd.concat([test_query_length,test_title_length,test_length_dif,test_length_rate,test_query_same_word_rate,test_title_same_word_rate,test_title_number_per_query,\n",
        "                      test_edit_distance,test_jaccrad_distance,test_tfidf_sim,test_sentence2vecSim,y_test_reset,x_test_reset['query']],axis=1)\n",
        "val_feature=pd.concat([val_query_length,val_title_length,val_length_dif,val_length_rate,val_query_same_word_rate,val_title_same_word_rate,val_title_number_per_query,\n",
        "                      val_edit_distance,val_jaccrad_distance,val_tfidf_sim,val_sentence2vecSim,y_val_reset,x_val_reset['query']],axis=1)"
      ],
      "execution_count": 0,
      "outputs": []
    },
    {
      "cell_type": "code",
      "metadata": {
        "id": "RtTLv78Xs3bd",
        "colab_type": "code",
        "colab": {}
      },
      "source": [
        "#和点击率关联的特征（对每个特征做groupby，计算点击率，并图示和点击率关系）：train_query_length，train_title_length，train_length_dif，train_query_same_word_rate，train_title_number_per_query，空缺的特征用中位数填补\n",
        "#做平均方差等的特征（都是对query做groupby）：train_title_length，train_length_dif，length_rate，train_query_same_word_rate，train_title_same_word_rate ,和4个距离相似度"
      ],
      "execution_count": 0,
      "outputs": []
    },
    {
      "cell_type": "code",
      "metadata": {
        "id": "yg84dLEInxpj",
        "colab_type": "code",
        "colab": {}
      },
      "source": [
        "def get_single_dimension_rate_feature(train_df, valid_df, fea_set):\n",
        "    for fea in fea_set:\n",
        "        temp_pivot_table=train_df.groupby(fea)['label'].agg(['mean'])\n",
        "        train_df = pd.merge(train_df, temp_pivot_table, left_on=fea,right_index=True,how='left')\n",
        "        train_df.rename(columns={'mean':fea + '_click_rate'}, inplace=True)\n",
        "        valid_df = pd.merge(valid_df, temp_pivot_table, left_on=fea,right_index=True,how='left')\n",
        "        valid_df.rename(columns={'mean':fea + '_click_rate'}, inplace=True)\n",
        "        print(fea + ' : finish!!!')\n",
        "    return train_df,valid_df"
      ],
      "execution_count": 0,
      "outputs": []
    },
    {
      "cell_type": "code",
      "metadata": {
        "id": "i4c4z0eX1kVN",
        "colab_type": "code",
        "outputId": "f59e4936-dbc3-473c-baa0-1fad88e32c8e",
        "colab": {
          "base_uri": "https://localhost:8080/",
          "height": 195
        }
      },
      "source": [
        "#加了点击率后特征：feature1\n",
        "rate_feature=['query_length','title_length','length_dif','query_same_word_rate','title_number_per_query']\n",
        "train_feature1,test_feature1=get_single_dimension_rate_feature(train_feature, test_feature, rate_feature)\n",
        "train_featurediu,val_feature1=get_single_dimension_rate_feature(train_feature, val_feature, rate_feature)"
      ],
      "execution_count": 0,
      "outputs": [
        {
          "output_type": "stream",
          "text": [
            "query_length : finish!!!\n",
            "title_length : finish!!!\n",
            "length_dif : finish!!!\n",
            "query_same_word_rate : finish!!!\n",
            "title_number_per_query : finish!!!\n",
            "query_length : finish!!!\n",
            "title_length : finish!!!\n",
            "length_dif : finish!!!\n",
            "query_same_word_rate : finish!!!\n",
            "title_number_per_query : finish!!!\n"
          ],
          "name": "stdout"
        }
      ]
    },
    {
      "cell_type": "code",
      "metadata": {
        "id": "IP3Ngwti1LZJ",
        "colab_type": "code",
        "colab": {}
      },
      "source": [
        "#特征和点击率关系分布图\n",
        "def rate_plot(data,name1,name2):\n",
        "  plt.scatter(data[name1],data[name2],c='k',s=50)\n",
        "  plt.xlabel(name1)\n",
        "  plt.ylabel(name2)\n",
        "  plt.grid()\n",
        "  plt.show()"
      ],
      "execution_count": 0,
      "outputs": []
    },
    {
      "cell_type": "code",
      "metadata": {
        "id": "dICEvdtwoiAa",
        "colab_type": "code",
        "colab": {}
      },
      "source": [
        "rate_plot(val_feature1,'query_length','query_length_click_rate')"
      ],
      "execution_count": 0,
      "outputs": []
    },
    {
      "cell_type": "code",
      "metadata": {
        "id": "6FNvGqgvGZEe",
        "colab_type": "code",
        "colab": {}
      },
      "source": [
        "#检查nah值,显示含有nah值的所有行\n",
        "test_feature1[test_feature1.isnull().T.any()]"
      ],
      "execution_count": 0,
      "outputs": []
    },
    {
      "cell_type": "code",
      "metadata": {
        "id": "nBMjYHJrANzN",
        "colab_type": "code",
        "colab": {}
      },
      "source": [
        "#检查nah值,显示含有nah值的所有行\n",
        "val_feature1[val_feature1.isnull().T.any()]"
      ],
      "execution_count": 0,
      "outputs": []
    },
    {
      "cell_type": "code",
      "metadata": {
        "id": "UwdIn02hIJzN",
        "colab_type": "code",
        "colab": {}
      },
      "source": [
        "#给所有nah值填充所在列的中位数\n",
        "test_feature1=test_feature1.fillna({'title_length_click_rate':test_feature1['title_length_click_rate'].median(),\n",
        "                      'length_dif_click_rate':test_feature1['length_dif_click_rate'].median(),\n",
        "                      'query_same_word_rate_click_rate':test_feature1['query_same_word_rate_click_rate'].median()})\n",
        "\n",
        "val_feature1=val_feature1.fillna({'title_length_click_rate':val_feature1['title_length_click_rate'].median(),\n",
        "                      'length_dif_click_rate':val_feature1['length_dif_click_rate'].median(),\n",
        "                      'query_same_word_rate_click_rate':val_feature1['query_same_word_rate_click_rate'].median()})"
      ],
      "execution_count": 0,
      "outputs": []
    },
    {
      "cell_type": "code",
      "metadata": {
        "id": "kiay8AJaS6Ag",
        "colab_type": "code",
        "colab": {}
      },
      "source": [
        "def get_single_dimension_statistic_feature(train_df, valid_df, fea_set):\n",
        "    for fea in fea_set:\n",
        "        temp_df = train_df[['query',fea]].copy()\n",
        "        temp_pivot_table=temp_df.groupby('query')[fea].agg(['mean','max','min','std','var'])\n",
        "        train_df = pd.merge(train_df, temp_pivot_table, left_on='query',right_index=True,how='left')\n",
        "        train_df.rename(columns={'mean':fea + '_mean','max':fea + '_max','min':fea + '_min','std':fea + '_std','var':fea + '_var'}, inplace=True)\n",
        "        valid_df = pd.merge(valid_df, temp_pivot_table, left_on='query',right_index=True,how='left')\n",
        "        valid_df.rename(columns={'mean':fea + '_mean','max':fea + '_max','min':fea + '_min','std':fea + '_std','var':fea + '_var'}, inplace=True)\n",
        "        print(fea + ' : finish!!!')\n",
        "    return train_df,valid_df"
      ],
      "execution_count": 0,
      "outputs": []
    },
    {
      "cell_type": "code",
      "metadata": {
        "id": "Z4jFXbXeivIH",
        "colab_type": "code",
        "colab": {}
      },
      "source": [
        "statistic_feature=['title_length','length_dif','length_rate','query_same_word_rate','title_same_word_rate',\n",
        "                   'edit_distance','jaccrad_distance', 'tfidf_sim', 'sentence2vecSim'] \n",
        "train_feature2,test_feature2=get_single_dimension_statistic_feature(train_feature1, test_feature1, statistic_feature)\n",
        "train_featurediudiu,val_feature2=get_single_dimension_statistic_feature(train_feature1, val_feature1, statistic_feature)\n",
        "train_feature2.drop(['query','label'],axis=1,inplace=True)\n",
        "test_feature2.drop(['query','label'],axis=1,inplace=True)\n",
        "val_feature2.drop(['query','label'],axis=1,inplace=True)"
      ],
      "execution_count": 0,
      "outputs": []
    },
    {
      "cell_type": "code",
      "metadata": {
        "id": "iL82IViqSHM5",
        "colab_type": "code",
        "colab": {}
      },
      "source": [
        "test_feature2[test_feature2.isnull().T.any()]"
      ],
      "execution_count": 0,
      "outputs": []
    },
    {
      "cell_type": "code",
      "metadata": {
        "id": "KQCSQcq7FeBg",
        "colab_type": "code",
        "colab": {}
      },
      "source": [
        "test_feature2=test_feature2.fillna(0)\n",
        "train_feature2=train_feature2.fillna(0)\n",
        "val_feature2=val_feature2.fillna(0)"
      ],
      "execution_count": 0,
      "outputs": []
    },
    {
      "cell_type": "code",
      "metadata": {
        "id": "KeMjvV46QLH8",
        "colab_type": "code",
        "colab": {}
      },
      "source": [
        "train_feature2.columns"
      ],
      "execution_count": 0,
      "outputs": []
    },
    {
      "cell_type": "code",
      "metadata": {
        "id": "JpBtNKPmNPiT",
        "colab_type": "code",
        "colab": {}
      },
      "source": [
        "lgb_train = lgb.Dataset(train_feature2,y_train_reset)\n",
        "lgb_eval = lgb.Dataset(val_feature2, y_val_reset, reference=lgb_train)\n",
        "lgb_test = lgb.Dataset(test_feature2, y_test_reset, reference=lgb_train)\n",
        "evals_result = {}\n",
        "params = {\n",
        "    'task': 'train',\n",
        "    'boosting_type': 'gbdt',\n",
        "    'objective': 'binary',\n",
        "    'metric': {'binary_logloss','auc'},\n",
        "    'max_depth':5,\n",
        "    'num_leaves': 10,\n",
        "    'num_trees': 70,\n",
        "    'learning_rate': 0.01,\n",
        "    'bagging_fraction': 0.9,\n",
        "    'bagging_freq': 3,\n",
        "    'min_data_in_leaf':20,\n",
        "    'verbose': 0,\n",
        "    'random_state':33,\n",
        "}\n",
        "print('Start training...')\n",
        "gbm = lgb.train(params,\n",
        "                lgb_train,\n",
        "                num_boost_round=70,\n",
        "                valid_sets=[lgb_train,lgb_eval,lgb_test],\n",
        "                evals_result=evals_result,\n",
        "                early_stopping_rounds=10)\n",
        "print('Start predicting...')\n",
        "y_pred = gbm.predict(test_feature2, num_iteration=gbm.best_iteration)\n"
      ],
      "execution_count": 0,
      "outputs": []
    },
    {
      "cell_type": "code",
      "metadata": {
        "id": "wEtyvTQgYj4U",
        "colab_type": "code",
        "outputId": "d653afd1-f25e-412c-814a-065d204b2338",
        "colab": {
          "base_uri": "https://localhost:8080/",
          "height": 313
        }
      },
      "source": [
        "lgb.plot_importance(gbm, max_num_features=10)"
      ],
      "execution_count": 0,
      "outputs": [
        {
          "output_type": "execute_result",
          "data": {
            "text/plain": [
              "<matplotlib.axes._subplots.AxesSubplot at 0x7fbd2f4846d8>"
            ]
          },
          "metadata": {
            "tags": []
          },
          "execution_count": 89
        },
        {
          "output_type": "display_data",
          "data": {
            "image/png": "[encoded data removed]",
            "text/plain": [
              "<Figure size 432x288 with 1 Axes>"
            ]
          },
          "metadata": {
            "tags": []
          }
        }
      ]
    },
    {
      "cell_type": "code",
      "metadata": {
        "id": "KTnpPVS-fZLR",
        "colab_type": "code",
        "colab": {}
      },
      "source": [
        "lgb.plot_tree(gbm, tree_index=3, figsize=(100, 40), show_info=['split_gain'])"
      ],
      "execution_count": 0,
      "outputs": []
    },
    {
      "cell_type": "code",
      "metadata": {
        "id": "UrCPDQkTfwgx",
        "colab_type": "code",
        "outputId": "4097c6c7-6b97-4009-801a-c6e1e196fac5",
        "colab": {
          "base_uri": "https://localhost:8080/",
          "height": 313
        }
      },
      "source": [
        "lgb.plot_metric(evals_result, metric='binary_logloss')"
      ],
      "execution_count": 0,
      "outputs": [
        {
          "output_type": "execute_result",
          "data": {
            "text/plain": [
              "<matplotlib.axes._subplots.AxesSubplot at 0x7fbd2aed21d0>"
            ]
          },
          "metadata": {
            "tags": []
          },
          "execution_count": 103
        },
        {
          "output_type": "display_data",
          "data": {
            "image/png": "[encoded data removed]",
            "text/plain": [
              "<Figure size 432x288 with 1 Axes>"
            ]
          },
          "metadata": {
            "tags": []
          }
        }
      ]
    },
    {
      "cell_type": "code",
      "metadata": {
        "id": "E_lzcSC45Qd0",
        "colab_type": "code",
        "outputId": "c41bcb3b-c20e-41b7-a72a-ee7ced7f2cca",
        "colab": {
          "base_uri": "https://localhost:8080/",
          "height": 313
        }
      },
      "source": [
        "lgb.plot_metric(evals_result, metric='auc')"
      ],
      "execution_count": 0,
      "outputs": [
        {
          "output_type": "execute_result",
          "data": {
            "text/plain": [
              "<matplotlib.axes._subplots.AxesSubplot at 0x7fbd28917978>"
            ]
          },
          "metadata": {
            "tags": []
          },
          "execution_count": 95
        },
        {
          "output_type": "display_data",
          "data": {
            "image/png": "[encoded data removed]",
            "text/plain": [
              "<Figure size 432x288 with 1 Axes>"
            ]
          },
          "metadata": {
            "tags": []
          }
        }
      ]
    },
    {
      "cell_type": "code",
      "metadata": {
        "id": "aVoOIr1L4tUa",
        "colab_type": "code",
        "outputId": "e66e5b6e-844e-477c-867a-3a93cf6a4a3a",
        "colab": {
          "base_uri": "https://localhost:8080/",
          "height": 34
        }
      },
      "source": [
        "#calculate Normalized Cross Entropy\n",
        "NE = (-1) / len(y_pred) * sum(((1+y_test_reset)/2 * np.log(y_pred) +  (1-y_test_reset)/2 * np.log(1 - y_pred)))\n",
        "print(\"Normalized Cross Entropy \" + str(NE))"
      ],
      "execution_count": 0,
      "outputs": [
        {
          "output_type": "stream",
          "text": [
            "Normalized Cross Entropy 0.9443404795631408\n"
          ],
          "name": "stdout"
        }
      ]
    },
    {
      "cell_type": "code",
      "metadata": {
        "id": "uiEnaSYbpswQ",
        "colab_type": "code",
        "colab": {}
      },
      "source": [
        "# from sklearn.linear_model import LogisticRegression\n",
        "# lm = LogisticRegression(penalty='l2',C=0.05) # logestic model construction\n",
        "# lm.fit(x_train,y_train)  # fitting the data\n",
        "# y_pred_test = lm.predict_proba(x_validation)   # Give the probabilty on each label\n",
        "# y_pred_label = lm.predict(x_validation) "
      ],
      "execution_count": 0,
      "outputs": []
    },
    {
      "cell_type": "code",
      "metadata": {
        "id": "tIGJkelxdr2Y",
        "colab_type": "code",
        "colab": {}
      },
      "source": [
        ""
      ],
      "execution_count": 0,
      "outputs": []
    }
  ]
}